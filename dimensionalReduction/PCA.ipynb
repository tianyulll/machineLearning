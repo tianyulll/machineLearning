{
 "cells": [
  {
   "cell_type": "code",
   "execution_count": 1,
   "id": "87775f5a",
   "metadata": {},
   "outputs": [],
   "source": [
    "import math\n",
    "import matplotlib.pyplot as plt\n",
    "import numpy as np"
   ]
  },
  {
   "cell_type": "code",
   "execution_count": 2,
   "id": "2b28efa9",
   "metadata": {},
   "outputs": [
    {
     "name": "stdout",
     "output_type": "stream",
     "text": [
      "(515, 10000)\n"
     ]
    }
   ],
   "source": [
    "with open('LUNG.txt') as f:\n",
    "    mat = [[float(num) for num in line.split(' ')] for line in f]\n",
    "mat = np.array(mat)\n",
    "print(mat.shape)\n",
    "#515sample, 10000genes"
   ]
  },
  {
   "cell_type": "code",
   "execution_count": 27,
   "id": "6af73fe4",
   "metadata": {},
   "outputs": [
    {
     "name": "stdout",
     "output_type": "stream",
     "text": [
      "[-1.94198487e-13 -1.50904100e-17 -1.94147179e-13 ...  1.16502816e-12\n",
      "  3.88324109e-13  1.74755140e-12]\n",
      "[-1.87810386e+00  1.02549638e+00 -9.52748362e-02 -1.86010008e+00\n",
      " -1.47856487e+00  4.62197800e-04  1.16040691e+00 -1.10467681e+00\n",
      "  1.62027928e-01  1.04420570e+00]\n",
      "[-1.87810386e+00  1.02549638e+00 -9.52748362e-02 -1.86010008e+00\n",
      " -1.47856487e+00  4.62197800e-04  1.16040691e+00 -1.10467681e+00\n",
      "  1.62027928e-01  1.04420570e+00]\n"
     ]
    }
   ],
   "source": [
    "x = mat - mat.mean(axis=0) #mean center data"
   ]
  },
  {
   "cell_type": "code",
   "execution_count": 22,
   "id": "3912cd3f",
   "metadata": {},
   "outputs": [
    {
     "name": "stdout",
     "output_type": "stream",
     "text": [
      "[-1.87810386e+00  1.02549638e+00 -9.52748362e-02 -1.86010008e+00\n",
      " -1.47856487e+00  4.62197800e-04  1.16040691e+00 -1.10467681e+00\n",
      "  1.62027928e-01  1.04420570e+00]\n",
      "[-1.87810386e+00  1.02549638e+00 -9.52748362e-02 -1.86010008e+00\n",
      " -1.47856487e+00  4.62197800e-04  1.16040691e+00 -1.10467681e+00\n",
      "  1.62027928e-01  1.04420570e+00]\n"
     ]
    }
   ],
   "source": [
    "s = x.T.dot(x) #covariance matrix\n",
    "eigen_val, eigen_vec = np.linalg.eigh(s) #eigen decomposition"
   ]
  },
  {
   "cell_type": "code",
   "execution_count": 4,
   "id": "3640b30f",
   "metadata": {},
   "outputs": [
    {
     "data": {
      "image/png": "[encoded data removed]",
      "text/plain": [
       "<Figure size 432x288 with 1 Axes>"
      ]
     },
     "metadata": {
      "needs_background": "light"
     },
     "output_type": "display_data"
    }
   ],
   "source": [
    "plt.plot(eigen_val)\n",
    "plt.show()\n",
    "#eigen value without sorting"
   ]
  },
  {
   "cell_type": "code",
   "execution_count": 5,
   "id": "85bc1003",
   "metadata": {},
   "outputs": [
    {
     "name": "stdout",
     "output_type": "stream",
     "text": [
      "[9999 9998 9997 ...    2    1    0]\n"
     ]
    },
    {
     "data": {
      "image/png": "[encoded data removed]",
      "text/plain": [
       "<Figure size 432x288 with 1 Axes>"
      ]
     },
     "metadata": {
      "needs_background": "light"
     },
     "output_type": "display_data"
    }
   ],
   "source": [
    "import copy\n",
    "des = copy.deepcopy(eigen_val)\n",
    "ind = des.argsort()[::-1]\n",
    "print(ind) #descending order of eigenvector positions\n",
    "des_ev = np.sort(des)[::-1]\n",
    "plt.plot(des_ev)\n",
    "plt.show()\n",
    "#sorted eigenvalue plot"
   ]
  },
  {
   "cell_type": "code",
   "execution_count": 23,
   "id": "4a6c4bfb",
   "metadata": {},
   "outputs": [
    {
     "name": "stdout",
     "output_type": "stream",
     "text": [
      "(10000, 2)\n"
     ]
    }
   ],
   "source": [
    "pc = eigen_vec[:,9999]\n",
    "pc = np.c_[pc, eigen_vec[:,9998]]\n",
    "print(pc.shape)"
   ]
  },
  {
   "cell_type": "code",
   "execution_count": 24,
   "id": "d7511ef1",
   "metadata": {},
   "outputs": [
    {
     "name": "stdout",
     "output_type": "stream",
     "text": [
      "(515, 2)\n"
     ]
    }
   ],
   "source": [
    "#dimension reduction into 2 dimensions of the mean-centered data\n",
    "d1 = []\n",
    "\n",
    "for row in x:\n",
    "    d1.append(row.dot(pc))\n",
    "d1 = np.asarray(d1)\n",
    "print(d1.shape)"
   ]
  },
  {
   "cell_type": "code",
   "execution_count": 25,
   "id": "2155a0ea",
   "metadata": {},
   "outputs": [
    {
     "data": {
      "text/plain": [
       "<function matplotlib.pyplot.show(close=None, block=None)>"
      ]
     },
     "execution_count": 25,
     "metadata": {},
     "output_type": "execute_result"
    },
    {
     "data": {
      "image/png": "[encoded data removed]",
      "text/plain": [
       "<Figure size 432x288 with 1 Axes>"
      ]
     },
     "metadata": {
      "needs_background": "light"
     },
     "output_type": "display_data"
    }
   ],
   "source": [
    "plt.scatter(d1[:,0], d1[:,1])\n",
    "plt.show"
   ]
  },
  {
   "cell_type": "code",
   "execution_count": 9,
   "id": "4e763bac",
   "metadata": {},
   "outputs": [
    {
     "name": "stdout",
     "output_type": "stream",
     "text": [
      "210\n",
      "10259040.102027014\n",
      "9228942.17405103\n",
      "9234406.250107741\n"
     ]
    }
   ],
   "source": [
    "#find the number of required 90% variance\n",
    "ev_sum = sum(eigen_val)\n",
    "for i in range(10000):\n",
    "    tmpsum = sum(des_ev[:i])/ev_sum\n",
    "    if tmpsum>0.9:\n",
    "        break\n",
    "print(i)\n",
    "print(ev_sum)\n",
    "print(sum(des_ev[:209]))\n",
    "print(sum(des_ev[:210]))\n"
   ]
  },
  {
   "cell_type": "code",
   "execution_count": null,
   "id": "56547ae8",
   "metadata": {},
   "outputs": [],
   "source": []
  }
 ],
 "metadata": {
  "kernelspec": {
   "display_name": "Python 3 (ipykernel)",
   "language": "python",
   "name": "python3"
  },
  "language_info": {
   "codemirror_mode": {
    "name": "ipython",
    "version": 3
   },
   "file_extension": ".py",
   "mimetype": "text/x-python",
   "name": "python",
   "nbconvert_exporter": "python",
   "pygments_lexer": "ipython3",
   "version": "3.9.7"
  }
 },
 "nbformat": 4,
 "nbformat_minor": 5
}
