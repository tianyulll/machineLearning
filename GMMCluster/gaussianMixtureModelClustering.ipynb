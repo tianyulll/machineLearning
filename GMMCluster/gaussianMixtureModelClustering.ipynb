{
 "cells": [
  {
   "cell_type": "code",
   "execution_count": 1,
   "id": "d3b7f8cc",
   "metadata": {},
   "outputs": [],
   "source": [
    "import math\n",
    "import matplotlib.pyplot as plt\n",
    "import seaborn as sn\n",
    "import numpy as np"
   ]
  },
  {
   "cell_type": "code",
   "execution_count": 2,
   "id": "2872c79c",
   "metadata": {},
   "outputs": [
    {
     "name": "stdout",
     "output_type": "stream",
     "text": [
      "879 10\n"
     ]
    }
   ],
   "source": [
    "#load data\n",
    "hiparray = np.loadtxt(open(\"hip1000.txt\"), delimiter=\",\")\n",
    "hiparray = hiparray[:10]\n",
    "hipT = np.transpose(hiparray)\n",
    "hipgene = np.array(hipT)\n",
    "print(len(hipgene), len(hipgene[0])) #879 datapoints, with 10 features. (geneXsample)"
   ]
  },
  {
   "cell_type": "code",
   "execution_count": 3,
   "id": "3ede35c1",
   "metadata": {},
   "outputs": [
    {
     "name": "stdout",
     "output_type": "stream",
     "text": [
      "(3, 10)\n"
     ]
    }
   ],
   "source": [
    "#parse data test_mean.txt\n",
    "lines = []\n",
    "k1, k2, k3 = [],[],[]\n",
    "with open('test_mean.txt') as f:\n",
    "    lines = f.readlines()\n",
    "for line in lines:\n",
    "    line = line.strip()\n",
    "    line = line.split()\n",
    "    k1.append(float(line[0]))\n",
    "    k2.append(float(line[1]))\n",
    "    k3.append(float(line[2]))\n",
    "init_mu = np.array([k1[:10],k2[:10],k3[:10]])\n",
    "print(np.shape(init_mu))"
   ]
  },
  {
   "cell_type": "code",
   "execution_count": 4,
   "id": "4c694796",
   "metadata": {},
   "outputs": [
    {
     "name": "stdout",
     "output_type": "stream",
     "text": [
      "(3, 10, 10)\n",
      "(3,)\n"
     ]
    }
   ],
   "source": [
    "#initialize covariance, cluster probability\n",
    "init_cov = []\n",
    "for i in range(3):\n",
    "    init_cov.append(np.identity(10))\n",
    "init_pc = np.array([0.3,0.3,0.4])\n",
    "print(np.shape(init_cov))\n",
    "print(np.shape(init_pc))"
   ]
  },
  {
   "cell_type": "code",
   "execution_count": 5,
   "id": "44badd01",
   "metadata": {},
   "outputs": [],
   "source": [
    "#multivariate gaussian distribution PDF \n",
    "def GaussianPDF(x, mu, sigma):\n",
    "    dim = np.shape(sigma)[0]\n",
    "    sigma = sigma+np.eye(dim)*0.000001 #accomodate overflow\n",
    "    covDet = np.linalg.det(2*np.pi*(sigma))\n",
    "    covInv = np.linalg.inv(sigma)\n",
    "    diff = x-mu\n",
    "    pdf = (1/(covDet**0.5))*np.exp(-0.5*diff.T.dot(covInv).dot(diff))\n",
    "    return pdf"
   ]
  },
  {
   "cell_type": "code",
   "execution_count": 6,
   "id": "9c0e988e",
   "metadata": {},
   "outputs": [],
   "source": [
    "#compute the loglikelihood \n",
    "def logll(data, pc, mu, sigma):\n",
    "    logl = []\n",
    "    for x in range(len(data)):\n",
    "        tmp = 0\n",
    "        for y in range(len(pc)):\n",
    "            tmp += GaussianPDF(data[x], mu[y], sigma[y])*pc[y]\n",
    "        logl.append(np.log(tmp))\n",
    "    return sum(logl)\n",
    "            "
   ]
  },
  {
   "cell_type": "code",
   "execution_count": 7,
   "id": "cfec27b9",
   "metadata": {},
   "outputs": [],
   "source": [
    "#EM algorithm\n",
    "def EM(data, pc, mu, sigma):\n",
    "    l, dim = np.shape(data)\n",
    "    logs = []\n",
    "    newlog = -1\n",
    "    prevlog = 0\n",
    "    hiddenM = np.array([np.zeros(len(pc)) for i in range(l)])\n",
    "    \n",
    "    while abs(prevlog-newlog) > 0.001:\n",
    "        prevlog = newlog\n",
    "        # e step\n",
    "        for x in range(l):\n",
    "            pdfList = []\n",
    "            for y in range(len(pc)):\n",
    "                tmp = GaussianPDF(hipgene[x], mu[y], sigma[y])*pc[y]\n",
    "                pdfList.append(tmp)\n",
    "            for y in range(len(pc)):\n",
    "                hiddenM[x][y] = pdfList[y]/np.sum(pdfList)\n",
    "        # m step\n",
    "        for i in range(len(pc)):\n",
    "            xsum = np.sum(hiddenM[:,i])\n",
    "            pc[i] = xsum/l\n",
    "            #update mean matrix\n",
    "            mean = np.sum([hiddenM[n][i]*data[n] for n in range(l)], axis=0) /xsum\n",
    "            mu[i] = mean\n",
    "            #update covariance matrix\n",
    "            xdiff = data-mean\n",
    "            sigman = np.sum([xdiff[n].reshape((dim,1)).dot(xdiff[n].reshape(1,dim))*hiddenM[n][i] for n in range(l)], axis = 0)\n",
    "            sigma[i] = sigman/xsum\n",
    "        #After EM step, calculate loglikelihood.\n",
    "        newlog = logll(data, pc, mu, sigma)\n",
    "        logs.append(newlog)\n",
    "    \n",
    "    return logs\n"
   ]
  },
  {
   "cell_type": "code",
   "execution_count": 8,
   "id": "f72e594c",
   "metadata": {
    "scrolled": true
   },
   "outputs": [
    {
     "data": {
      "image/png": "[encoded data removed]",
      "text/plain": [
       "<Figure size 432x288 with 1 Axes>"
      ]
     },
     "metadata": {
      "needs_background": "light"
     },
     "output_type": "display_data"
    },
    {
     "name": "stdout",
     "output_type": "stream",
     "text": [
      "-10321.376847744641\n"
     ]
    }
   ],
   "source": [
    "q1res = EM(hipgene, init_pc, init_mu, init_cov)\n",
    "plt.plot(q1res)\n",
    "plt.show()\n",
    "print(q1res[-1])"
   ]
  },
  {
   "cell_type": "code",
   "execution_count": 9,
   "id": "f270d05c",
   "metadata": {},
   "outputs": [],
   "source": [
    "import random\n",
    "#random initialization\n",
    "def ranMix(r):\n",
    "    s = 0\n",
    "    res = []\n",
    "    for i in range(r):\n",
    "        res.append(random.uniform(0.00001,1-s))\n",
    "        s+=res[-1]\n",
    "    return res"
   ]
  },
  {
   "cell_type": "code",
   "execution_count": 10,
   "id": "04902323",
   "metadata": {},
   "outputs": [
    {
     "name": "stdout",
     "output_type": "stream",
     "text": [
      "[0.7671585138149606, 0.19788602361066962, 0.016299521131379117]\n",
      "[0.7586048598724734, 0.12995350591176652, 0.06034813262978478]\n",
      "[0.7477828172499265, 0.21862203481574802, 0.03131230418237497]\n",
      "[0.8803648605394473, 0.02085460342711632, 0.08085052526094122]\n",
      "[0.5417984996430719, 0.19628082819770615, 0.09218090656966829]\n",
      "[0.5903434000900959, 0.15578135681000116, 0.2398312647539279]\n",
      "[0.11432711634221598, 0.1283233235749653, 0.5577440604744421]\n",
      "[0.3958060543155202, 0.06364229848272876, 0.02751530000158708]\n",
      "[0.8950231306946236, 0.07072197055624416, 0.013258706001783869]\n",
      "[0.6208367842605931, 0.3456188884787383, 0.005003598863042083]\n",
      "[-10321.376846833844, -10321.376614376104, -10321.376543140579, -10321.37655376139, -10321.376704934366, -10321.376690456687, -10321.376799275897, -10321.37664469465, -10321.376576452776, -10320.668270667506]\n"
     ]
    }
   ],
   "source": [
    "#using a randomly initialized mix probability of each cluster\n",
    "q3res = []\n",
    "for i in range(10):\n",
    "    rmix = ranMix(3)\n",
    "    print(rmix)\n",
    "    tmp = EM(hipgene, rmix, init_mu, init_cov)\n",
    "    q3res.append(tmp[-1])\n",
    "print(q3res)\n"
   ]
  },
  {
   "cell_type": "code",
   "execution_count": 11,
   "id": "d3cca701",
   "metadata": {},
   "outputs": [],
   "source": [
    "def ranMean(r):\n",
    "    res = []\n",
    "    for i in range(r):\n",
    "        tmp = []\n",
    "        for z in range(10):\n",
    "            tmp.append(random.uniform(-2,2))\n",
    "        res.append(tmp)\n",
    "    return np.array(res)"
   ]
  },
  {
   "cell_type": "code",
   "execution_count": 12,
   "id": "3d2dca4b",
   "metadata": {},
   "outputs": [
    {
     "name": "stdout",
     "output_type": "stream",
     "text": [
      "[-10346.953856881595, -10229.317601033668, -10152.176857668124, -10118.150697657933, -9999.70641416629, -9919.078568575746, -9714.220730955753, -9708.951189893403]\n"
     ]
    }
   ],
   "source": [
    "# loglikelihood for cluster of size 3 to 10\n",
    "like = []\n",
    "for i in range(3,11):\n",
    "    init_cov = []\n",
    "    for x in range(i):\n",
    "        init_cov.append(np.identity(10))\n",
    "    tmp = EM(hipgene, ranMix(i), ranMean(i), init_cov)\n",
    "    like.append(tmp[-1])\n",
    "print(like)"
   ]
  },
  {
   "cell_type": "code",
   "execution_count": null,
   "id": "ad8d3e88",
   "metadata": {},
   "outputs": [],
   "source": []
  }
 ],
 "metadata": {
  "kernelspec": {
   "display_name": "Python 3 (ipykernel)",
   "language": "python",
   "name": "python3"
  },
  "language_info": {
   "codemirror_mode": {
    "name": "ipython",
    "version": 3
   },
   "file_extension": ".py",
   "mimetype": "text/x-python",
   "name": "python",
   "nbconvert_exporter": "python",
   "pygments_lexer": "ipython3",
   "version": "3.9.7"
  }
 },
 "nbformat": 4,
 "nbformat_minor": 5
}
