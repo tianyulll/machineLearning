{
  "cells": [
    {
      "cell_type": "code",
      "execution_count": null,
      "metadata": {
        "id": "3bb52f34-a080-407f-b2d7-4bfe2ab9be00"
      },
      "outputs": [],
      "source": [
        "from torch.utils.data import DataLoader, Dataset, random_split\n",
        "import torchvision.transforms as T\n",
        "import torch.nn as nn\n",
        "from torchvision.utils import make_grid \n",
        "from IPython.display import Image\n",
        "import matplotlib.pyplot as plt\n",
        "import numpy as np\n",
        "import random\n",
        "import torch\n",
        "import os\n",
        "from torchvision import datasets, transforms\n",
        "%matplotlib inline"
      ],
      "id": "3bb52f34-a080-407f-b2d7-4bfe2ab9be00"
    },
    {
      "cell_type": "code",
      "execution_count": null,
      "metadata": {
        "id": "c4SIKc4IPW60",
        "colab": {
          "base_uri": "https://localhost:8080/"
        },
        "outputId": "f046318e-1712-41c2-c226-300587f39b1d"
      },
      "outputs": [
        {
          "output_type": "stream",
          "name": "stdout",
          "text": [
            "Drive already mounted at /content/drive; to attempt to forcibly remount, call drive.mount(\"/content/drive\", force_remount=True).\n",
            "['meningioma', 'glioma', 'pituitary']\n"
          ]
        }
      ],
      "source": [
        "#access dataset on google drive\n",
        "from google.colab import drive\n",
        "drive.mount('/content/drive')\n",
        "proj_dir = '/content/drive/My Drive/data'\n",
        "data_dir = '/content/drive/My Drive/data/archive'\n",
        "classes = os.listdir(data_dir)\n",
        "print(classes)\n",
        "# meningioma(1), glioma(2), pituitary tumor(3) "
      ],
      "id": "c4SIKc4IPW60"
    },
    {
      "cell_type": "code",
      "execution_count": null,
      "metadata": {
        "id": "5d596e54-ad67-4bd2-b056-e171cce919ce"
      },
      "outputs": [],
      "source": [
        "'''\n",
        "pituitary_brains = os.listdir(data_dir+\"/3\")\n",
        "print('No. of training examples for pituitary tumor samples:', len(pituitary_brains))\n",
        "print(pituitary_brains[:5])\n",
        "'''"
      ],
      "id": "5d596e54-ad67-4bd2-b056-e171cce919ce"
    },
    {
      "cell_type": "code",
      "execution_count": null,
      "metadata": {
        "id": "64e584bd-f6a7-4700-9e1d-5f0f365343b3"
      },
      "outputs": [],
      "source": [
        "from torchvision.transforms import ToTensor\n",
        "data_transform = transforms.Compose([transforms.Grayscale(1), transforms.ToTensor()])\n",
        "dataset = datasets.ImageFolder(data_dir, transform=data_transform)"
      ],
      "id": "64e584bd-f6a7-4700-9e1d-5f0f365343b3"
    },
    {
      "cell_type": "code",
      "execution_count": null,
      "metadata": {
        "id": "1721b6f4-55b3-4f17-8aa3-6c3df036d681"
      },
      "outputs": [],
      "source": [
        "#filtering in appropriate images \n",
        "from PIL import Image\n",
        "path = data_dir+\"/pituitary\"\n",
        "for images in os.listdir(path):\n",
        "    img = Image.open(path+\"/\"+images)\n",
        "    if img.width != 512:\n",
        "        os.remove(path+\"/\"+images)"
      ],
      "id": "1721b6f4-55b3-4f17-8aa3-6c3df036d681"
    },
    {
      "cell_type": "code",
      "execution_count": null,
      "metadata": {
        "id": "6359f87a-c799-4b78-97b5-9b49bb76da25"
      },
      "outputs": [],
      "source": [
        "import matplotlib\n",
        "import matplotlib.pyplot as plt\n",
        "%matplotlib inline\n",
        "\n",
        "matplotlib.rcParams['figure.facecolor'] = '#ffffff'\n",
        "\n",
        "def show_example(img, label):\n",
        "    print('Label: ', dataset.classes[label], \"(\"+str(label)+\")\")\n",
        "    plt.imshow(img.permute(1, 2, 0)) # matplotlib expects 0-dimension to be last. Permute function moves 0-dimention to last dimension for matplotlib"
      ],
      "id": "6359f87a-c799-4b78-97b5-9b49bb76da25"
    },
    {
      "cell_type": "code",
      "execution_count": null,
      "metadata": {
        "id": "ac884646-7748-4b17-a85a-52d5b440b847",
        "colab": {
          "base_uri": "https://localhost:8080/"
        },
        "outputId": "1ae8a4be-c965-4eb1-dade-fdb1b8671539"
      },
      "outputs": [
        {
          "output_type": "execute_result",
          "data": {
            "text/plain": [
              "(2549, 500)"
            ]
          },
          "metadata": {},
          "execution_count": 50
        }
      ],
      "source": [
        "#split into training data, validating data. \n",
        "\n",
        "import time\n",
        "random_seed = time.time()\n",
        "torch.manual_seed(random_seed)\n",
        "val_size = 500\n",
        "train_size = len(dataset) - val_size\n",
        "\n",
        "train_ds, val_ds = random_split(dataset, [train_size, val_size])\n",
        "len(train_ds), len(val_ds)"
      ],
      "id": "ac884646-7748-4b17-a85a-52d5b440b847"
    },
    {
      "cell_type": "code",
      "execution_count": null,
      "metadata": {
        "id": "9f90407c-b14e-47cf-830d-0d0e2ddac876",
        "colab": {
          "base_uri": "https://localhost:8080/"
        },
        "outputId": "b642dae4-388d-49b9-c8f5-86a860a15634"
      },
      "outputs": [
        {
          "output_type": "stream",
          "name": "stderr",
          "text": [
            "/usr/local/lib/python3.7/dist-packages/torch/utils/data/dataloader.py:490: UserWarning: This DataLoader will create 4 worker processes in total. Our suggested max number of worker in current system is 2, which is smaller than what this DataLoader is going to create. Please be aware that excessive worker creation might get DataLoader running slow or even freeze, lower the worker number to avoid potential slowness/freeze if necessary.\n",
            "  cpuset_checked))\n"
          ]
        }
      ],
      "source": [
        "#create dataloader\n",
        "train_dl = DataLoader(train_ds, batch_size=16, shuffle=True, num_workers=4, pin_memory=True)\n",
        "val_dl = DataLoader(val_ds, 32, num_workers=4, pin_memory=True)"
      ],
      "id": "9f90407c-b14e-47cf-830d-0d0e2ddac876"
    },
    {
      "cell_type": "code",
      "execution_count": null,
      "metadata": {
        "id": "3b749548"
      },
      "outputs": [],
      "source": [
        "#convolutional neural network\n",
        "\n",
        "def apply_kernel(image, kernel):\n",
        "    ri, ci = image.shape\n",
        "    rk, ck = kernel.shape\n",
        "    ro, co = ri-rk+1, ci-ck+1\n",
        "    output = torch.zeros([ro, co])\n",
        "    for i in range (ro):\n",
        "        for j in range(co):\n",
        "            output[i,j] = torch.sum(image[i:i+rk,k:j+ck]*kernel)\n",
        "    return output\n",
        "                    "
      ],
      "id": "3b749548"
    },
    {
      "cell_type": "code",
      "execution_count": null,
      "metadata": {
        "id": "144bfc54"
      },
      "outputs": [],
      "source": [
        "import torch.nn as nn\n",
        "import torch.nn.functional as F\n",
        "class ImageClassificationBase(nn.Module):\n",
        "    def training_step(self, batch):\n",
        "        images, labels = batch\n",
        "        out = self(images)\n",
        "        loss = F.cross_entropy(out, labels)\n",
        "        return loss\n",
        "    def validation_step(self, batch):\n",
        "        images, labels = batch\n",
        "        out = self(images)\n",
        "        loss = F.cross_entropy(out, labels)\n",
        "        acc = accuracy(out, labels)\n",
        "        return {'val_loss': loss.detach(), 'val_acc': acc}\n",
        "    def validation_epoch_end(self, outputs):\n",
        "        batch_losses = [x['val_loss'] for x in outputs]\n",
        "        epoch_loss = torch.stack(batch_losses).mean()   # Combine losses\n",
        "        batch_accs = [x['val_acc'] for x in outputs]\n",
        "        epoch_acc = torch.stack(batch_accs).mean()      # Combine accuracies\n",
        "        return {'val_loss': epoch_loss.item(), 'val_acc': epoch_acc.item()}\n",
        "    \n",
        "    def epoch_end(self, epoch, result):\n",
        "        print(\"Epoch [{}], train_loss: {:.4f}, val_loss: {:.4f}, val_acc: {:.4f}\".format(\n",
        "            epoch, result['train_loss'], result['val_loss'], result['val_acc']))\n",
        "        \n",
        "def accuracy(outputs, labels):\n",
        "    _, preds = torch.max(outputs, dim=1)\n",
        "    return torch.tensor(torch.sum(preds == labels).item() / len(preds))"
      ],
      "id": "144bfc54"
    },
    {
      "cell_type": "code",
      "execution_count": null,
      "metadata": {
        "id": "6d6fc6f2"
      },
      "outputs": [],
      "source": [
        "#architecture of the model\n",
        "class CnnModel(ImageClassificationBase):\n",
        "    def __init__(self):\n",
        "        super().__init__()\n",
        "        self.network = nn.Sequential(\n",
        "            \n",
        "            nn.Conv2d(1, 32, kernel_size=3, padding=1),\n",
        "            nn.ReLU(),\n",
        "            nn.Conv2d(32, 64, kernel_size=3, stride=1, padding=1),\n",
        "            nn.ReLU(),\n",
        "            nn.MaxPool2d(4, 4),\n",
        "            \n",
        "            nn.Conv2d(64, 128, kernel_size=3, stride=1, padding=1),\n",
        "            nn.ReLU(),\n",
        "            nn.Conv2d(128, 128, kernel_size=3, stride=1, padding=1),\n",
        "            nn.ReLU(),\n",
        "            nn.MaxPool2d(4, 4), \n",
        "\n",
        "            nn.Conv2d(128, 256, kernel_size=3, stride=1, padding=1),\n",
        "            nn.ReLU(),\n",
        "            nn.Conv2d(256, 256, kernel_size=3, stride=1, padding=1),\n",
        "            nn.ReLU(),\n",
        "            nn.MaxPool2d(4, 4),\n",
        "            \n",
        "            nn.Flatten(), \n",
        "            nn.Linear(256*8*8, 512),\n",
        "            nn.ReLU(),\n",
        "            nn.Linear(512, 256),\n",
        "            nn.ReLU(),\n",
        "            nn.Linear(256, 3))\n",
        "        \n",
        "    def forward(self, xb):\n",
        "        return self.network(xb)\n",
        "    "
      ],
      "id": "6d6fc6f2"
    },
    {
      "cell_type": "code",
      "execution_count": null,
      "metadata": {
        "id": "327f4f7f",
        "colab": {
          "base_uri": "https://localhost:8080/"
        },
        "outputId": "415fbc8e-2e07-4b37-8166-eed425204034"
      },
      "outputs": [
        {
          "output_type": "execute_result",
          "data": {
            "text/plain": [
              "9646723"
            ]
          },
          "metadata": {},
          "execution_count": 54
        }
      ],
      "source": [
        "model = CnnModel()\n",
        "model\n",
        "sum([p.numel() for p in model.parameters()])"
      ],
      "id": "327f4f7f"
    },
    {
      "cell_type": "code",
      "execution_count": null,
      "metadata": {
        "id": "1dcc5ec4"
      },
      "outputs": [],
      "source": [
        "def evaluate(model, val_loader):\n",
        "    model.eval()\n",
        "    outputs = [model.validation_step(batch) for batch in val_loader]\n",
        "    return model.validation_epoch_end(outputs)\n",
        "\n",
        "def fit(epochs, lr, model, train_loader, val_loader, opt_func=torch.optim.SGD):\n",
        "    history = []\n",
        "    optimizer = opt_func(model.parameters(), lr)\n",
        "    for epoch in range(epochs):\n",
        "        # Training Phase \n",
        "        model.train()\n",
        "        train_losses = []\n",
        "        for batch in train_loader:\n",
        "            loss = model.training_step(batch)\n",
        "            train_losses.append(loss)\n",
        "            loss.backward()\n",
        "            optimizer.step()\n",
        "            optimizer.zero_grad()\n",
        "        # Validation phase\n",
        "        result = evaluate(model, val_loader)\n",
        "        result['train_loss'] = torch.stack(train_losses).mean().item()\n",
        "        model.epoch_end(epoch, result)\n",
        "        history.append(result)\n",
        "    return history"
      ],
      "id": "1dcc5ec4"
    },
    {
      "cell_type": "code",
      "execution_count": null,
      "metadata": {
        "id": "8MlSikPTET1S"
      },
      "outputs": [],
      "source": [
        "def get_default_device():\n",
        "    if torch.cuda.is_available():\n",
        "        return torch.device('cuda')\n",
        "    else:\n",
        "        return torch.device('cpu')\n",
        "    \n",
        "def to_device(data, device):\n",
        "    \"\"\"Move tensor(s) to chosen device\"\"\"\n",
        "    if isinstance(data, (list,tuple)):\n",
        "        return [to_device(x, device) for x in data]\n",
        "    return data.to(device, non_blocking=True)\n",
        "\n",
        "class DeviceDataLoader():\n",
        "    \"\"\"Wrap a dataloader to move data to a device\"\"\"\n",
        "    def __init__(self, dl, device):\n",
        "        self.dl = dl\n",
        "        self.device = device\n",
        "        \n",
        "    def __iter__(self):\n",
        "        \"\"\"Yield a batch of data after moving it to device\"\"\"\n",
        "        for b in self.dl: \n",
        "            yield to_device(b, self.device)\n",
        "\n",
        "    def __len__(self):\n",
        "        \"\"\"Number of batches\"\"\"\n",
        "        return len(self.dl)"
      ],
      "id": "8MlSikPTET1S"
    },
    {
      "cell_type": "code",
      "execution_count": null,
      "metadata": {
        "id": "bX2F8cjUEWhO"
      },
      "outputs": [],
      "source": [
        "#training on GPU\n",
        "device = get_default_device()\n",
        "train_dl = DeviceDataLoader(train_dl, device)\n",
        "val_dl = DeviceDataLoader(val_dl, device)\n",
        "to_device(model, device)\n",
        "model = to_device(CnnModel(), device)"
      ],
      "id": "bX2F8cjUEWhO"
    },
    {
      "cell_type": "code",
      "execution_count": null,
      "metadata": {
        "id": "268d3c8e",
        "colab": {
          "base_uri": "https://localhost:8080/"
        },
        "outputId": "c7ae4fc1-8bd6-43d2-a111-37c7aed31264"
      },
      "outputs": [
        {
          "output_type": "stream",
          "name": "stderr",
          "text": [
            "/usr/local/lib/python3.7/dist-packages/torch/utils/data/dataloader.py:490: UserWarning: This DataLoader will create 4 worker processes in total. Our suggested max number of worker in current system is 2, which is smaller than what this DataLoader is going to create. Please be aware that excessive worker creation might get DataLoader running slow or even freeze, lower the worker number to avoid potential slowness/freeze if necessary.\n",
            "  cpuset_checked))\n"
          ]
        },
        {
          "output_type": "stream",
          "name": "stdout",
          "text": [
            "Epoch [0], train_loss: 0.9210, val_loss: 0.8108, val_acc: 0.6469\n",
            "Epoch [1], train_loss: 0.6588, val_loss: 0.6143, val_acc: 0.7031\n",
            "Epoch [2], train_loss: 0.5839, val_loss: 0.5704, val_acc: 0.7340\n",
            "Epoch [3], train_loss: 0.5285, val_loss: 0.4906, val_acc: 0.7957\n",
            "Epoch [4], train_loss: 0.4664, val_loss: 0.4333, val_acc: 0.8086\n",
            "Epoch [5], train_loss: 0.4089, val_loss: 0.3793, val_acc: 0.8273\n",
            "Epoch [6], train_loss: 0.3427, val_loss: 0.3384, val_acc: 0.8578\n",
            "Epoch [7], train_loss: 0.2666, val_loss: 0.3317, val_acc: 0.8500\n",
            "Epoch [8], train_loss: 0.2386, val_loss: 0.4284, val_acc: 0.8273\n",
            "Epoch [9], train_loss: 0.2100, val_loss: 0.3146, val_acc: 0.8645\n",
            "Epoch [10], train_loss: 0.1750, val_loss: 0.3978, val_acc: 0.8441\n",
            "Epoch [11], train_loss: 0.1520, val_loss: 0.3264, val_acc: 0.8570\n",
            "Epoch [12], train_loss: 0.1308, val_loss: 0.2726, val_acc: 0.8797\n",
            "Epoch [13], train_loss: 0.1009, val_loss: 0.2338, val_acc: 0.8969\n",
            "Epoch [14], train_loss: 0.0847, val_loss: 0.3166, val_acc: 0.8930\n",
            "CPU times: user 15min 31s, sys: 15min 50s, total: 31min 21s\n",
            "Wall time: 33min 36s\n"
          ]
        }
      ],
      "source": [
        "#training process\n",
        "%%time\n",
        "num_epochs = 15\n",
        "opt_func = torch.optim.Adam\n",
        "lr = 0.0001\n",
        "\n",
        "history = fit(num_epochs, lr, model, train_dl, val_dl, opt_func)"
      ],
      "id": "268d3c8e"
    },
    {
      "cell_type": "code",
      "source": [
        "from sklearn.model_selection import KFold\n",
        "\n",
        "kfold = KFold(n_splits=5, shuffle=True)\n",
        "crossval = []\n",
        "\n",
        "for fold, (train_ids, test_ids) in enumerate(kfold.split(dataset)):\n",
        "\n",
        "    print(f'FOLD {fold}')\n",
        "    print('--------------------------------')\n",
        "\n",
        "    # Sample elements randomly from a given list of ids, no replacement.\n",
        "    train_subsampler = torch.utils.data.SubsetRandomSampler(train_ids)\n",
        "    test_subsampler = torch.utils.data.SubsetRandomSampler(test_ids)\n",
        "    \n",
        "    trainloader = torch.utils.data.DataLoader(dataset, batch_size=16, sampler=train_subsampler, pin_memory=True)\n",
        "    testloader = torch.utils.data.DataLoader(dataset, batch_size=16, sampler=test_subsampler, pin_memory=True)\n",
        "    \n",
        "    #load to GPU\n",
        "    device = get_default_device()\n",
        "    to_device(model, device)\n",
        "    train_dl = DeviceDataLoader(trainloader, device)\n",
        "    val_dl = DeviceDataLoader(testloader, device)\n",
        "    model = to_device(CnnModel(), device)\n",
        "\n",
        "    #training\n",
        "    num_epochs = 9\n",
        "    lr = 0.0001\n",
        "    opt_func = torch.optim.Adam\n",
        "    history = fit(num_epochs, lr, model, train_dl, val_dl, opt_func)\n",
        "    crossval.append(history)\n",
        "    "
      ],
      "metadata": {
        "colab": {
          "base_uri": "https://localhost:8080/"
        },
        "id": "1UPGIJfXYDa-",
        "outputId": "193adf27-af66-4b37-f8f3-33336eb97876"
      },
      "id": "1UPGIJfXYDa-",
      "execution_count": null,
      "outputs": [
        {
          "output_type": "stream",
          "name": "stdout",
          "text": [
            "FOLD 0\n",
            "--------------------------------\n",
            "Epoch [0], train_loss: 1.0681, val_loss: 0.7425, val_acc: 0.6410\n",
            "Epoch [1], train_loss: 0.6994, val_loss: 0.6745, val_acc: 0.7019\n",
            "Epoch [2], train_loss: 0.5624, val_loss: 0.4723, val_acc: 0.8061\n",
            "Epoch [3], train_loss: 0.4360, val_loss: 0.4775, val_acc: 0.8269\n",
            "Epoch [4], train_loss: 0.3909, val_loss: 0.3538, val_acc: 0.8429\n",
            "Epoch [5], train_loss: 0.3323, val_loss: 0.3085, val_acc: 0.8686\n",
            "Epoch [6], train_loss: 0.2753, val_loss: 0.2911, val_acc: 0.8702\n",
            "Epoch [7], train_loss: 0.2291, val_loss: 0.2499, val_acc: 0.9071\n",
            "Epoch [8], train_loss: 0.1661, val_loss: 0.2248, val_acc: 0.9071\n",
            "FOLD 1\n",
            "--------------------------------\n",
            "Epoch [0], train_loss: 1.0844, val_loss: 0.7150, val_acc: 0.6907\n",
            "Epoch [1], train_loss: 0.6960, val_loss: 0.6223, val_acc: 0.6955\n",
            "Epoch [2], train_loss: 0.6087, val_loss: 0.6098, val_acc: 0.6971\n",
            "Epoch [3], train_loss: 0.5573, val_loss: 0.5317, val_acc: 0.7468\n",
            "Epoch [4], train_loss: 0.4787, val_loss: 0.5160, val_acc: 0.7356\n",
            "Epoch [5], train_loss: 0.4080, val_loss: 0.4178, val_acc: 0.8141\n",
            "Epoch [6], train_loss: 0.3439, val_loss: 0.4667, val_acc: 0.8173\n",
            "Epoch [7], train_loss: 0.2755, val_loss: 0.4780, val_acc: 0.7917\n",
            "Epoch [8], train_loss: 0.2295, val_loss: 0.3527, val_acc: 0.8574\n",
            "FOLD 2\n",
            "--------------------------------\n",
            "Epoch [0], train_loss: 1.0835, val_loss: 0.7552, val_acc: 0.6603\n",
            "Epoch [1], train_loss: 0.7236, val_loss: 0.7168, val_acc: 0.7452\n",
            "Epoch [2], train_loss: 0.6201, val_loss: 0.5355, val_acc: 0.7500\n",
            "Epoch [3], train_loss: 0.5092, val_loss: 0.4080, val_acc: 0.8478\n",
            "Epoch [4], train_loss: 0.4085, val_loss: 0.3978, val_acc: 0.8061\n",
            "Epoch [5], train_loss: 0.3492, val_loss: 0.3215, val_acc: 0.8654\n",
            "Epoch [6], train_loss: 0.2790, val_loss: 0.2834, val_acc: 0.8830\n",
            "Epoch [7], train_loss: 0.2349, val_loss: 0.2513, val_acc: 0.9054\n",
            "Epoch [8], train_loss: 0.1789, val_loss: 0.2186, val_acc: 0.9183\n",
            "FOLD 3\n",
            "--------------------------------\n",
            "Epoch [0], train_loss: 1.0407, val_loss: 0.7432, val_acc: 0.6667\n",
            "Epoch [1], train_loss: 0.7117, val_loss: 0.6415, val_acc: 0.7179\n",
            "Epoch [2], train_loss: 0.6181, val_loss: 0.5407, val_acc: 0.7676\n",
            "Epoch [3], train_loss: 0.5310, val_loss: 0.4995, val_acc: 0.7804\n",
            "Epoch [4], train_loss: 0.4328, val_loss: 0.4212, val_acc: 0.8173\n",
            "Epoch [5], train_loss: 0.3565, val_loss: 0.3439, val_acc: 0.8638\n",
            "Epoch [6], train_loss: 0.2925, val_loss: 0.3158, val_acc: 0.8686\n",
            "Epoch [7], train_loss: 0.2514, val_loss: 0.2487, val_acc: 0.8846\n",
            "Epoch [8], train_loss: 0.1786, val_loss: 0.2790, val_acc: 0.8910\n",
            "FOLD 4\n",
            "--------------------------------\n",
            "Epoch [0], train_loss: 1.0227, val_loss: 0.7717, val_acc: 0.6330\n",
            "Epoch [1], train_loss: 0.6725, val_loss: 0.5699, val_acc: 0.7308\n",
            "Epoch [2], train_loss: 0.5807, val_loss: 0.4988, val_acc: 0.7548\n",
            "Epoch [3], train_loss: 0.4405, val_loss: 0.3921, val_acc: 0.8173\n",
            "Epoch [4], train_loss: 0.3693, val_loss: 0.4932, val_acc: 0.7692\n",
            "Epoch [5], train_loss: 0.2820, val_loss: 0.4033, val_acc: 0.8173\n",
            "Epoch [6], train_loss: 0.2072, val_loss: 0.4531, val_acc: 0.8253\n",
            "Epoch [7], train_loss: 0.1720, val_loss: 0.4630, val_acc: 0.8333\n",
            "Epoch [8], train_loss: 0.1274, val_loss: 0.2446, val_acc: 0.8766\n"
          ]
        }
      ]
    },
    {
      "cell_type": "code",
      "source": [
        "count = 0\n",
        "for i in crossval:\n",
        "  plot_accuracies(i,count)\n",
        "  count+=1\n",
        "ax = plt.gca()\n",
        "plt.legend()\n",
        "ax.set_ylim([0.5,1])\n",
        "plt.plot()"
      ],
      "metadata": {
        "colab": {
          "base_uri": "https://localhost:8080/",
          "height": 313
        },
        "id": "Jpt1COU2-w_V",
        "outputId": "803ed1fe-48e0-48ce-920b-ae094d89ec32"
      },
      "id": "Jpt1COU2-w_V",
      "execution_count": null,
      "outputs": [
        {
          "output_type": "execute_result",
          "data": {
            "text/plain": [
              "[]"
            ]
          },
          "metadata": {},
          "execution_count": 22
        },
        {
          "output_type": "display_data",
          "data": {
            "text/plain": [
              "<Figure size 432x288 with 1 Axes>"
            ],
            "image/png": "[encoded data removed]"
          },
          "metadata": {
            "needs_background": "light"
          }
        }
      ]
    },
    {
      "cell_type": "code",
      "execution_count": null,
      "metadata": {
        "id": "522be6cc"
      },
      "outputs": [],
      "source": [
        "def plot_accuracies(history):\n",
        "    accuracies = [x['val_acc'] for x in history]\n",
        "    plt.plot(accuracies, '-x')\n",
        "    plt.xlabel('epoch')\n",
        "    plt.ylabel('accuracy')\n",
        "    plt.title('Accuracy vs. No. of epochs')\n",
        "    \n",
        "\n",
        "def plot_losses(history):\n",
        "    train_losses = [x.get('train_loss') for x in history]\n",
        "    val_losses = [x['val_loss'] for x in history]\n",
        "    plt.plot(train_losses, '-bx')\n",
        "    plt.plot(val_losses, '-rx')\n",
        "    plt.xlabel('epoch')\n",
        "    plt.ylabel('loss')\n",
        "    plt.legend(['Training', 'Validation'])\n",
        "    plt.title('Loss vs. No. of epochs')"
      ],
      "id": "522be6cc"
    },
    {
      "cell_type": "code",
      "execution_count": null,
      "metadata": {
        "id": "cf9b7d3d",
        "colab": {
          "base_uri": "https://localhost:8080/",
          "height": 295
        },
        "outputId": "092d31e2-88ef-4157-eec8-c765e1e52726"
      },
      "outputs": [
        {
          "output_type": "display_data",
          "data": {
            "text/plain": [
              "<Figure size 432x288 with 1 Axes>"
            ],
            "image/png": "[encoded data removed]"
          },
          "metadata": {
            "needs_background": "light"
          }
        }
      ],
      "source": [
        "plot_accuracies(history)"
      ],
      "id": "cf9b7d3d"
    },
    {
      "cell_type": "code",
      "execution_count": null,
      "metadata": {
        "id": "d3bd1e18",
        "colab": {
          "base_uri": "https://localhost:8080/",
          "height": 295
        },
        "outputId": "d12f0b21-523a-47c7-af50-f1cfeae7da3c"
      },
      "outputs": [
        {
          "output_type": "display_data",
          "data": {
            "text/plain": [
              "<Figure size 432x288 with 1 Axes>"
            ],
            "image/png": "[encoded data removed]"
          },
          "metadata": {
            "needs_background": "light"
          }
        }
      ],
      "source": [
        "plot_losses(history)"
      ],
      "id": "d3bd1e18"
    },
    {
      "cell_type": "code",
      "execution_count": null,
      "metadata": {
        "id": "efdeaacd"
      },
      "outputs": [],
      "source": [
        "def predict_image(img, model):\n",
        "    # Convert to a batch of 1\n",
        "    xb = to_device(img.unsqueeze(0), device)\n",
        "    # Get predictions from model\n",
        "    yb = model(xb)\n",
        "    # Pick index with highest probability\n",
        "    _, preds  = torch.max(yb, dim=1)\n",
        "    # Retrieve the class label\n",
        "    return dataset.classes[preds[0].item()]"
      ],
      "id": "efdeaacd"
    },
    {
      "cell_type": "code",
      "execution_count": null,
      "metadata": {
        "id": "8_dmic3RPlZa"
      },
      "outputs": [],
      "source": [
        "#save the current model\n",
        "torch.save(model.state_dict(), '10cnn.pth')\n",
        "model2 = to_device(CnnModel(), device)\n",
        "model2.load_state_dict(torch.load('10cnn.pth'))\n"
      ],
      "id": "8_dmic3RPlZa"
    },
    {
      "cell_type": "code",
      "execution_count": null,
      "metadata": {
        "id": "NFWFQ7luBWhD",
        "colab": {
          "base_uri": "https://localhost:8080/",
          "height": 240
        },
        "outputId": "f5013a97-4f8e-42a3-add7-2581777e9d0e"
      },
      "outputs": [
        {
          "output_type": "error",
          "ename": "AttributeError",
          "evalue": "ignored",
          "traceback": [
            "\u001b[0;31m---------------------------------------------------------------------------\u001b[0m",
            "\u001b[0;31mAttributeError\u001b[0m                            Traceback (most recent call last)",
            "\u001b[0;32m<ipython-input-58-97962870ef55>\u001b[0m in \u001b[0;36m<module>\u001b[0;34m()\u001b[0m\n\u001b[1;32m      2\u001b[0m \u001b[0mpath\u001b[0m \u001b[0;34m=\u001b[0m \u001b[0mproj_dir\u001b[0m\u001b[0;34m+\u001b[0m\u001b[0;34m'/test/meningioma'\u001b[0m\u001b[0;34m\u001b[0m\u001b[0;34m\u001b[0m\u001b[0m\n\u001b[1;32m      3\u001b[0m \u001b[0;32mfor\u001b[0m \u001b[0mimages\u001b[0m \u001b[0;32min\u001b[0m \u001b[0mos\u001b[0m\u001b[0;34m.\u001b[0m\u001b[0mlistdir\u001b[0m\u001b[0;34m(\u001b[0m\u001b[0mpath\u001b[0m\u001b[0;34m)\u001b[0m\u001b[0;34m:\u001b[0m\u001b[0;34m\u001b[0m\u001b[0;34m\u001b[0m\u001b[0m\n\u001b[0;32m----> 4\u001b[0;31m     \u001b[0mimg\u001b[0m \u001b[0;34m=\u001b[0m \u001b[0mImage\u001b[0m\u001b[0;34m.\u001b[0m\u001b[0mopen\u001b[0m\u001b[0;34m(\u001b[0m\u001b[0mpath\u001b[0m\u001b[0;34m+\u001b[0m\u001b[0;34m\"/\"\u001b[0m\u001b[0;34m+\u001b[0m\u001b[0mimages\u001b[0m\u001b[0;34m)\u001b[0m\u001b[0;34m\u001b[0m\u001b[0;34m\u001b[0m\u001b[0m\n\u001b[0m\u001b[1;32m      5\u001b[0m     \u001b[0;32mif\u001b[0m \u001b[0mimg\u001b[0m\u001b[0;34m.\u001b[0m\u001b[0mwidth\u001b[0m \u001b[0;34m!=\u001b[0m \u001b[0;36m512\u001b[0m\u001b[0;34m:\u001b[0m\u001b[0;34m\u001b[0m\u001b[0;34m\u001b[0m\u001b[0m\n\u001b[1;32m      6\u001b[0m         \u001b[0mos\u001b[0m\u001b[0;34m.\u001b[0m\u001b[0mremove\u001b[0m\u001b[0;34m(\u001b[0m\u001b[0mpath\u001b[0m\u001b[0;34m+\u001b[0m\u001b[0;34m\"/\"\u001b[0m\u001b[0;34m+\u001b[0m\u001b[0mimages\u001b[0m\u001b[0;34m)\u001b[0m\u001b[0;34m\u001b[0m\u001b[0;34m\u001b[0m\u001b[0m\n",
            "\u001b[0;31mAttributeError\u001b[0m: type object 'Image' has no attribute 'open'"
          ]
        }
      ],
      "source": [
        "#filter images with small size\n",
        "path = proj_dir+'/test/meningioma'\n",
        "for images in os.listdir(path):\n",
        "    img = Image.open(path+\"/\"+images)\n",
        "    if img.width != 512:\n",
        "        os.remove(path+\"/\"+images)"
      ],
      "id": "NFWFQ7luBWhD"
    },
    {
      "cell_type": "code",
      "execution_count": null,
      "metadata": {
        "id": "Nc8rVhaYbRz9",
        "colab": {
          "base_uri": "https://localhost:8080/"
        },
        "outputId": "de0b77a3-91ee-4ccb-a67c-0a84a60085fe"
      },
      "outputs": [
        {
          "output_type": "stream",
          "name": "stdout",
          "text": [
            "true label: glioma  predicted: glioma\n"
          ]
        }
      ],
      "source": [
        "#test on new data\n",
        "test_dataset = datasets.ImageFolder(proj_dir+'/test', transform=data_transform)\n",
        "im2, lb = test_dataset[0]\n",
        "\n",
        "print('true label:', dataset.classes[lb], ' predicted:', predict_image(im2, model))"
      ],
      "id": "Nc8rVhaYbRz9"
    },
    {
      "cell_type": "code",
      "execution_count": null,
      "metadata": {
        "id": "nlQOFVpb8OHV",
        "colab": {
          "base_uri": "https://localhost:8080/"
        },
        "outputId": "5adc9d2f-10fe-4da1-f968-58889cd094b7"
      },
      "outputs": [
        {
          "output_type": "execute_result",
          "data": {
            "text/plain": [
              "{'val_acc': 0.7225000262260437, 'val_loss': 2.9754059314727783}"
            ]
          },
          "metadata": {},
          "execution_count": 60
        }
      ],
      "source": [
        "#test on test dataset\n",
        "test_loader = DeviceDataLoader(DataLoader(test_dataset, 32), device)\n",
        "result = evaluate(model, test_loader)\n",
        "result"
      ],
      "id": "nlQOFVpb8OHV"
    },
    {
      "cell_type": "code",
      "execution_count": null,
      "metadata": {
        "id": "xe1qobOZYx0i"
      },
      "outputs": [],
      "source": [
        "\n",
        "\n",
        "random_seed = 1\n",
        "torch.manual_seed(random_seed)\n",
        "val_size = 500\n",
        "train_size = len(dataset) - val_size\n",
        "\n",
        "cs1_train, cs1_val = random_split(dataset, [train_size, val_size])\n",
        "\n",
        "expected = []\n",
        "predicted = []\n",
        "\n",
        "for inputs, labels in cs1_val:\n",
        "  expected.append(dataset.classes[labels])\n",
        "  predicted.append(predict_image(inputs, model))\n",
        "\n"
      ],
      "id": "xe1qobOZYx0i"
    },
    {
      "cell_type": "code",
      "execution_count": null,
      "metadata": {
        "id": "y11C_qEyjYqR",
        "colab": {
          "base_uri": "https://localhost:8080/",
          "height": 450
        },
        "outputId": "bd367ff3-45b0-47f5-8df3-fa6a7cb48b48"
      },
      "outputs": [
        {
          "output_type": "execute_result",
          "data": {
            "text/plain": [
              "[]"
            ]
          },
          "metadata": {},
          "execution_count": 63
        },
        {
          "output_type": "display_data",
          "data": {
            "text/plain": [
              "<Figure size 864x504 with 2 Axes>"
            ],
            "image/png": "[encoded data removed]"
          },
          "metadata": {}
        }
      ],
      "source": [
        "#Confusion Matrix on original dataset\n",
        "from sklearn.metrics import confusion_matrix\n",
        "from sklearn.preprocessing import normalize\n",
        "import seaborn as sn\n",
        "import pandas as pd\n",
        "cf_matrix = confusion_matrix(expected,predicted)\n",
        "classes = ('meningioma', 'glioma', 'pituitary')\n",
        "lb_matx = pd.DataFrame(normalize(cf_matrix, axis=1, norm='l1'), index = [i for i in classes],\n",
        "                     columns = [i for i in classes])\n",
        "\n",
        "plt.figure(figsize = (12,7))\n",
        "sn.heatmap(lb_matx, annot=True, cmap=\"Blues\")\n",
        "plt.plot()"
      ],
      "id": "y11C_qEyjYqR"
    },
    {
      "cell_type": "code",
      "execution_count": null,
      "metadata": {
        "id": "Elv0fyrzlCh2",
        "colab": {
          "base_uri": "https://localhost:8080/",
          "height": 450
        },
        "outputId": "abb20d6f-f3b9-4e78-9e00-58a529a34bbe"
      },
      "outputs": [
        {
          "output_type": "execute_result",
          "data": {
            "text/plain": [
              "[]"
            ]
          },
          "metadata": {},
          "execution_count": 64
        },
        {
          "output_type": "display_data",
          "data": {
            "text/plain": [
              "<Figure size 864x504 with 2 Axes>"
            ],
            "image/png": "[encoded data removed]"
          },
          "metadata": {}
        }
      ],
      "source": [
        "\n",
        "#Confusion matrix on new dataset\n",
        "expected = []\n",
        "predicted = []\n",
        "\n",
        "for inputs, labels in test_dataset:\n",
        "  expected.append(dataset.classes[labels])\n",
        "  predicted.append(predict_image(inputs, model))\n",
        "\n",
        "cf_matrix = confusion_matrix(expected,predicted)\n",
        "lb_matx = pd.DataFrame(normalize(cf_matrix, axis=1, norm='l1'), index = [i for i in classes],\n",
        "                     columns = [i for i in classes])\n",
        "\n",
        "plt.figure(figsize = (12,7))\n",
        "sn.heatmap(lb_matx, annot=True, cmap=\"Blues\")\n",
        "plt.plot()"
      ],
      "id": "Elv0fyrzlCh2"
    },
    {
      "cell_type": "code",
      "execution_count": null,
      "metadata": {
        "id": "eRJJ1AI_mvWG"
      },
      "outputs": [],
      "source": [],
      "id": "eRJJ1AI_mvWG"
    }
  ],
  "metadata": {
    "accelerator": "GPU",
    "colab": {
      "provenance": []
    },
    "kernelspec": {
      "display_name": "Python 3 (ipykernel)",
      "language": "python",
      "name": "python3"
    },
    "language_info": {
      "codemirror_mode": {
        "name": "ipython",
        "version": 3
      },
      "file_extension": ".py",
      "mimetype": "text/x-python",
      "name": "python",
      "nbconvert_exporter": "python",
      "pygments_lexer": "ipython3",
      "version": "3.9.7"
    }
  },
  "nbformat": 4,
  "nbformat_minor": 5
}